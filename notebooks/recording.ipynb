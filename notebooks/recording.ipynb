{
 "cells": [
  {
   "cell_type": "code",
   "execution_count": null,
   "metadata": {},
   "outputs": [],
   "source": [
    "from collections import deque\n",
    "import threading\n",
    "\n",
    "class AudioToPitchQueue:\n",
    "    \"\"\"a lock-safe queue where newly recorded audio is written, \n",
    "    and pitches are detected batch-wise\"\"\"\n",
    "    def __init__(self):\n",
    "        self.data = deque()\n",
    "        self.lock = threading.Lock()\n",
    "\n",
    "    def write(self, indata):\n",
    "        \"\"\"writes some iterable data (np.array, list) into our queue\"\"\"\n",
    "        with self.lock:\n",
    "            self.data.extend(indata)\n",
    "\n",
    "    def read(self, n):\n",
    "        \"\"\"reads n samples from the audio queue then pops it off\"\"\"\n",
    "        with self.lock:\n",
    "            if len(self.data) < n:\n",
    "                return None\n",
    "            out = [self.data.popleft() for _ in range(n)]\n",
    "        return out\n",
    "\n",
    "class AudioRecorder:\n",
    "    \"\"\"able to record audio with run()\"\"\"\n"
   ]
  }
 ],
 "metadata": {
  "kernelspec": {
   "display_name": "violin-venv",
   "language": "python",
   "name": "python3"
  },
  "language_info": {
   "name": "python",
   "version": "3.12.4"
  }
 },
 "nbformat": 4,
 "nbformat_minor": 2
}
